{
 "cells": [
  {
   "cell_type": "code",
   "execution_count": null,
   "metadata": {
    "scrolled": false
   },
   "outputs": [],
   "source": [
    "import pandas as pd\n",
    "import matplotlib.pyplot as plt\n",
    "import numpy as np\n",
    "from scipy.stats import gaussian_kde\n",
    "from scipy import stats\n",
    "import seaborn as sns\n",
    "\n",
    "import sklearn\n",
    "from sklearn import linear_model\n",
    "from sklearn.model_selection import train_test_split\n",
    "from sklearn.linear_model import LogisticRegression\n",
    "from sklearn.metrics import classification_report\n",
    "from sklearn.metrics import confusion_matrix\n",
    "from sklearn.metrics import multilabel_confusion_matrix\n",
    "from sklearn.metrics import accuracy_score\n",
    "import datetime as dt\n",
    "\n",
    "\"\"\"\n",
    "INFO OM DATA:\n",
    "    \n",
    "    \n",
    "TurId: Unique id for the tour (trip). A trip is a journey from one stop to the next one\t\n",
    "Dato: date\n",
    "Fylke: County\n",
    "Område: Area\n",
    "Kommune: Municipality\t\n",
    "Holdeplass_Fra: from_stop\t\n",
    "Holdeplass_Til: to_stop\t\t\n",
    "Linjetype: local bus or a school bus\t\n",
    "Linjefylke: county\t\n",
    "Linjenavn: bus number\t\n",
    "Linjeretning: This is the direction of the bus (e.g when bus 21 \n",
    "(Helsfyr - Tjuvholmen) drives  towards helsfyr this setting is 0 and on \n",
    "the second return trip when it goes towards Tjuvholmen, this setting is 1)\n",
    "\t\n",
    "Tidspunkt_Faktisk_Ankomst_Holdeplass_Fra: actual arrival time\n",
    "Tidspunkt_Faktisk_Avgang_Holdeplass_Fra\t: actual departure time\n",
    "Tidspunkt_Planlagt_Ankomst_Holdeplass_Fra: planned arrival time\t\n",
    "Tidspunkt_Planlagt_Avgang_Holdeplass_Fra: planned departure time\t\n",
    "Kjøretøy_Kapasitet: planned capacity for buss\t\n",
    "Passasjerer_Ombord: actual capacity\n",
    "\"\"\""
   ]
  },
  {
   "cell_type": "code",
   "execution_count": 13,
   "metadata": {},
   "outputs": [],
   "source": [
    "rutermain = pd.read_csv('Ruter_data.csv', sep = ';')\n",
    "\n",
    "buss = pd.DataFrame(rutermain.loc[(rutermain['Linjenavn'] == '31')])\n",
    "#Isolating buss 31\n",
    "\n",
    "buss.drop(['TurId','Fylke', 'Område', 'Kommune', 'Linjetype', 'Linjefylke', 'Kjøretøy_Kapasitet',\n",
    "           'Tidspunkt_Faktisk_Ankomst_Holdeplass_Fra','Tidspunkt_Faktisk_Avgang_Holdeplass_Fra',\n",
    "           'Tidspunkt_Planlagt_Ankomst_Holdeplass_Fra', 'Tidspunkt_Planlagt_Avgang_Holdeplass_Fra',\n",
    "           'Holdeplass_Fra', 'Holdeplass_Til', 'Linjenavn', 'Linjeretning'], axis = 1, inplace = True)\n",
    "\n",
    "#Cleaning the data and removing every unnecessary variable\n",
    "buss[['dag','måned','år',]] = buss.Dato.str.split(\"/\", expand = True)\n",
    "#Converting date to a format that LinearRegression accepts\n",
    "\n",
    "passasjerersum = buss.set_index('dag').groupby('dag')['Passasjerer_Ombord'].sum().reset_index()\n",
    "#Sums up all passangers, both on and off the bus for each day\n",
    "\n",
    "antall = passasjerersum.loc[(passasjerersum['Passasjerer_Ombord'] > 0)]\n",
    "#Excludes days where the sum is 0\n",
    "\n",
    "x = antall.drop('Passasjerer_Ombord', axis = 1)\n",
    "#Independent variables\n",
    "\n",
    "y = antall['Passasjerer_Ombord']\n",
    "#Dependant variable\n",
    "\n",
    "regObj = linear_model.LinearRegression()\n",
    "regObj.fit(x,y)\n",
    "\n",
    "x_train, x_test, y_train, y_test = train_test_split(x, y, test_size=0.3, random_state=1)\n",
    "logmodel = LogisticRegression(max_iter = 5000)\n",
    "logmodel.fit(x_train, y_train)\n",
    "predictions = logmodel.predict(x_test)\n",
    "conf = multilabel_confusion_matrix(y_test, predictions)"
   ]
  },
  {
   "cell_type": "code",
   "execution_count": 14,
   "metadata": {},
   "outputs": [
    {
     "name": "stdout",
     "output_type": "stream",
     "text": [
      "Classification Report:\n",
      "               precision    recall  f1-score   support\n",
      "\n",
      "          14       0.00      0.00      0.00       0.0\n",
      "          15       0.00      0.00      0.00       1.0\n",
      "          16       0.00      0.00      0.00       0.0\n",
      "          26       0.00      0.00      0.00       0.0\n",
      "          29       0.00      0.00      0.00       1.0\n",
      "          30       0.00      0.00      0.00       1.0\n",
      "          31       0.00      0.00      0.00       1.0\n",
      "          36       0.00      0.00      0.00       2.0\n",
      "          45       0.00      0.00      0.00       1.0\n",
      "          51       0.00      0.00      0.00       1.0\n",
      "          55       0.00      0.00      0.00       1.0\n",
      "          62       0.00      0.00      0.00       0.0\n",
      "\n",
      "    accuracy                           0.00       9.0\n",
      "   macro avg       0.00      0.00      0.00       9.0\n",
      "weighted avg       0.00      0.00      0.00       9.0\n",
      "\n",
      "Accuracy Score:\n",
      " 0.0\n",
      "Predict for 30:\n",
      " [36.14408602]\n",
      "Checking if coefficient + intercept i equal to predict:\n",
      " [36.14408602]\n"
     ]
    },
    {
     "name": "stderr",
     "output_type": "stream",
     "text": [
      "C:\\Users\\MARIUSSOBARBAROSSA\\anaconda3\\lib\\site-packages\\sklearn\\metrics\\_classification.py:1221: UndefinedMetricWarning: Precision and F-score are ill-defined and being set to 0.0 in labels with no predicted samples. Use `zero_division` parameter to control this behavior.\n",
      "  _warn_prf(average, modifier, msg_start, len(result))\n",
      "C:\\Users\\MARIUSSOBARBAROSSA\\anaconda3\\lib\\site-packages\\sklearn\\metrics\\_classification.py:1221: UndefinedMetricWarning: Recall and F-score are ill-defined and being set to 0.0 in labels with no true samples. Use `zero_division` parameter to control this behavior.\n",
      "  _warn_prf(average, modifier, msg_start, len(result))\n"
     ]
    },
    {
     "data": {
      "image/png": "[encoded data removed]",
      "text/plain": [
       "<Figure size 432x288 with 1 Axes>"
      ]
     },
     "metadata": {
      "needs_background": "light"
     },
     "output_type": "display_data"
    }
   ],
   "source": [
    "plt.xlabel('Date',fontsize=16)\n",
    "plt.ylabel('Number of passangers',fontsize=16)\n",
    "plt.scatter(antall.dag,antall.Passasjerer_Ombord,color='blue')\n",
    "plt.grid()\n",
    "plt.plot(antall.dag,regObj.predict(antall[['dag']]),color='red')\n",
    "\n",
    "print (\"Classification Report:\\n\",(classification_report(y_test, predictions)))\n",
    "print (\"Accuracy Score:\\n\", accuracy_score(y_test, predictions))\n",
    "\n",
    "#PROOF OF EQUATION\n",
    "intercept = regObj.intercept_\n",
    "coefficient = regObj.coef_\n",
    "\n",
    "print (\"Predict for 30:\\n\", regObj.predict([[30]]))\n",
    "\n",
    "print (\"Checking if coefficient + intercept i equal to predict:\\n\", coefficient*(30)+intercept)"
   ]
  },
  {
   "cell_type": "code",
   "execution_count": null,
   "metadata": {},
   "outputs": [],
   "source": []
  }
 ],
 "metadata": {
  "kernelspec": {
   "display_name": "Python 3",
   "language": "python",
   "name": "python3"
  },
  "language_info": {
   "codemirror_mode": {
    "name": "ipython",
    "version": 3
   },
   "file_extension": ".py",
   "mimetype": "text/x-python",
   "name": "python",
   "nbconvert_exporter": "python",
   "pygments_lexer": "ipython3",
   "version": "3.8.3"
  }
 },
 "nbformat": 4,
 "nbformat_minor": 4
}
